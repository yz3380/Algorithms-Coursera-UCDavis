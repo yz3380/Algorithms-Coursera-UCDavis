{
 "cells": [
  {
   "cell_type": "code",
   "execution_count": null,
   "metadata": {},
   "outputs": [],
   "source": [
    "# Week1 \n",
    "\n",
    "def max_pairwise_product(numbers):\n",
    "    n = len(numbers)\n",
    "    first = 0\n",
    "    second = 0 \n",
    "    for i in range(n):\n",
    "        if numbers[i] > numbers[first]: \n",
    "            first = i\n",
    "    if first == 0: second = 1\n",
    "    for j in range(n):\n",
    "        if numbers[j] > numbers[second] and j != first: \n",
    "            second = j\n",
    "    return (numbers[first] * numbers[second])\n",
    "\n",
    "if __name__ == '__main__':\n",
    "    input_n = int(input())\n",
    "    input_numbers = [int(x) for x in input().split()]\n",
    "    print(max_pairwise_product(input_numbers))"
   ]
  },
  {
   "cell_type": "code",
   "execution_count": 3,
   "metadata": {},
   "outputs": [
    {
     "name": "stdout",
     "output_type": "stream",
     "text": [
      "10\n",
      "55\n"
     ]
    }
   ],
   "source": [
    "# Week2\n",
    "# Problem1 Fibonacci Number\n",
    "\n",
    "def calc_fib(n):\n",
    "    if (n <= 1):\n",
    "        return n\n",
    "    else:\n",
    "        previous = 0\n",
    "        current = 1\n",
    "        for i in range(2,n+1):\n",
    "            current_new = previous + current\n",
    "            previous = current\n",
    "            current = current_new\n",
    "        return current\n",
    "\n",
    "n = int(input())\n",
    "print(calc_fib(n))"
   ]
  },
  {
   "cell_type": "code",
   "execution_count": null,
   "metadata": {},
   "outputs": [],
   "source": [
    "# Problem2 Last Digit of a Large Fibonacci Number\n",
    "\n",
    "def get_fibonacci_last_digit(n):\n",
    "    if (n <= 1):\n",
    "        return n\n",
    "    else:\n",
    "        fib = [0,1]\n",
    "        for i in range(2, n+1):\n",
    "            x = fib[i-1]+fib[i-2]\n",
    "            fib.append(x % 10)\n",
    "        return fib[n]\n",
    "\n",
    "n = int(input())\n",
    "print(get_fibonacci_last_digit(n))"
   ]
  },
  {
   "cell_type": "code",
   "execution_count": 4,
   "metadata": {},
   "outputs": [
    {
     "name": "stdout",
     "output_type": "stream",
     "text": [
      "24 88\n",
      "8\n"
     ]
    }
   ],
   "source": [
    "# Problem3 Greatest Common Divisor\n",
    "\n",
    "def gcd(a, b):\n",
    "    if a < b:\n",
    "        if a == 0: return b\n",
    "        else: return gcd(a, b%a)\n",
    "    else:\n",
    "        if b == 0: return a\n",
    "        else: return gcd(a%b, b)\n",
    "\n",
    "if __name__ == \"__main__\":\n",
    "    #input = sys.stdin.read()\n",
    "    a, b = map(int, input().split())\n",
    "    print(gcd(a, b))\n"
   ]
  },
  {
   "cell_type": "code",
   "execution_count": 11,
   "metadata": {},
   "outputs": [
    {
     "name": "stdout",
     "output_type": "stream",
     "text": [
      "226553150 1023473145\n",
      "46374212988031350\n"
     ]
    }
   ],
   "source": [
    "# Problem4 Least Common Multiple\n",
    "\n",
    "def gcd(a, b):\n",
    "    if a < b:\n",
    "        if a == 0: return b\n",
    "        else: return gcd(a, b%a)\n",
    "    else:\n",
    "        if b == 0: return a\n",
    "        else: return gcd(a%b, b)\n",
    "\n",
    "if __name__ == \"__main__\":\n",
    "    #input = sys.stdin.read()\n",
    "    a, b = map(int, input().split())\n",
    "    #print(int(a * b / gcd(a, b)))\n",
    "    print(int(a / gcd(a, b)) * b)\n"
   ]
  },
  {
   "cell_type": "code",
   "execution_count": 13,
   "metadata": {},
   "outputs": [
    {
     "name": "stdout",
     "output_type": "stream",
     "text": [
      "239 1000\n",
      "None\n"
     ]
    }
   ],
   "source": [
    "# Problem5 Fibonacci Number Again\n",
    "\n",
    "def get_fibonacci_huge(n, m):\n",
    "    if (n <= 1):\n",
    "        return n\n",
    "    else:\n",
    "        m_previous = 0\n",
    "        m_current = 1\n",
    "        fibm = [0,1]\n",
    "        for i in range(2, n+1):\n",
    "            x = fibm[i-1] + fibm[i-2]\n",
    "            fibm.append(x % m)\n",
    "            m_previous = m_current\n",
    "            m_current = x % m\n",
    "            if m_previous==0 and m_current==1: # stop iteration when period starts with 01 found\n",
    "                return fibm[n % (i-1)]\n",
    "        return m_current\n",
    "\n",
    "if __name__ == \"__main__\":\n",
    "    #input = sys.stdin.read()\n",
    "    n, m = map(int, input().split())\n",
    "    print(get_fibonacci_huge(n,m))"
   ]
  },
  {
   "cell_type": "code",
   "execution_count": 4,
   "metadata": {},
   "outputs": [
    {
     "name": "stdout",
     "output_type": "stream",
     "text": [
      "8\n",
      "4\n"
     ]
    }
   ],
   "source": [
    "# Problem6 Last Digit of the Sum of Fibonacci Numbers\n",
    "\n",
    "def get_fibonacci_huge(n, m):\n",
    "    if (n <= 1):\n",
    "        return n\n",
    "    else:\n",
    "        m_previous = 0\n",
    "        m_current = 1\n",
    "        fibm = [0,1]\n",
    "        for i in range(2, n+1):\n",
    "            x = fibm[i-1] + fibm[i-2]\n",
    "            fibm.append(x % m)\n",
    "            m_previous = m_current\n",
    "            m_current = x % m\n",
    "            if m_previous==0 and m_current==1:\n",
    "                return fibm[n % (i-1)]\n",
    "        return m_current\n",
    "\n",
    "n = int(input())\n",
    "print((get_fibonacci_huge(n+2, 10) - 1) % 10)"
   ]
  },
  {
   "cell_type": "code",
   "execution_count": 16,
   "metadata": {},
   "outputs": [
    {
     "name": "stdout",
     "output_type": "stream",
     "text": [
      "10 200\n",
      "2\n"
     ]
    }
   ],
   "source": [
    "# Problem7 Last Digit of the Sum of Fibonacci Numbers Again\n",
    "\n",
    "def get_fibonacci_huge(n, m):\n",
    "    if (n <= 1):\n",
    "        return n\n",
    "    else:\n",
    "        m_previous = 0\n",
    "        m_current = 1\n",
    "        fibm = [0,1]\n",
    "        for i in range(2, n+1):\n",
    "            x = fibm[i-1] + fibm[i-2]\n",
    "            fibm.append(x % m)\n",
    "            m_previous = m_current\n",
    "            m_current = x % m\n",
    "            if m_previous==0 and m_current==1:\n",
    "                return fibm[n % (i-1)]\n",
    "        return m_current\n",
    "    \n",
    "def fibonacci_partial_sum(from_, to):\n",
    "    if from_ == to: return get_fibonacci_huge(from_, 10)\n",
    "    else:\n",
    "        x = get_fibonacci_huge(to + 2, 10) - get_fibonacci_huge(from_ + 1, 10)\n",
    "        return (x+10) % 10\n",
    "    \n",
    "if __name__ == \"__main__\":\n",
    "    #input = sys.stdin.read()\n",
    "    from_, to = map(int, input().split())\n",
    "    print(fibonacci_partial_sum(from_, to))"
   ]
  },
  {
   "cell_type": "code",
   "execution_count": 19,
   "metadata": {},
   "outputs": [
    {
     "name": "stdout",
     "output_type": "stream",
     "text": [
      "1234567890\n",
      "0\n"
     ]
    }
   ],
   "source": [
    "# Problem8 Last Digit of the Sum of Squares of Fibonacci Numbers\n",
    "\n",
    "def get_fibonacci_huge(n, m):\n",
    "    if (n <= 1):\n",
    "        return n\n",
    "    else:\n",
    "        m_previous = 0\n",
    "        m_current = 1\n",
    "        fibm = [0,1]\n",
    "        for i in range(2, n+1):\n",
    "            x = fibm[i-1] + fibm[i-2]\n",
    "            fibm.append(x % m)\n",
    "            m_previous = m_current\n",
    "            m_current = x % m\n",
    "            if m_previous==0 and m_current==1:\n",
    "                return fibm[n % (i-1)]\n",
    "        return m_current\n",
    "\n",
    "def fibonacci_square_digit(n):\n",
    "    return (get_fibonacci_huge(n, 10) * get_fibonacci_huge(n + 1, 10)) % 10\n",
    "\n",
    "n = int(input())\n",
    "print(fibonacci_square_digit(n))"
   ]
  }
 ],
 "metadata": {
  "kernelspec": {
   "display_name": "Python 3",
   "language": "python",
   "name": "python3"
  },
  "language_info": {
   "codemirror_mode": {
    "name": "ipython",
    "version": 3
   },
   "file_extension": ".py",
   "mimetype": "text/x-python",
   "name": "python",
   "nbconvert_exporter": "python",
   "pygments_lexer": "ipython3",
   "version": "3.7.0"
  }
 },
 "nbformat": 4,
 "nbformat_minor": 2
}
