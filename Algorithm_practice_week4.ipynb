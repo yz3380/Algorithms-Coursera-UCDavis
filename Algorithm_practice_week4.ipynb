{
 "cells": [
  {
   "cell_type": "code",
   "execution_count": 12,
   "metadata": {},
   "outputs": [
    {
     "name": "stdout",
     "output_type": "stream",
     "text": [
      "5 1 5 8 12 13 5 8 1 23 1 11\n",
      "2 0 -1 0 -1 "
     ]
    }
   ],
   "source": [
    "# Problem1 Binary Search\n",
    "\n",
    "def binary_search(a, left, right, x):\n",
    "    if right <= left:\n",
    "        return -1\n",
    "    mid = left + (right - left) // 2\n",
    "    if x == a[mid]:\n",
    "        return mid\n",
    "    elif x < a[mid]:\n",
    "        return binary_search(a, left, mid, x)\n",
    "    else:\n",
    "        return binary_search(a, mid + 1, right, x)\n",
    "\n",
    "def linear_search(a, x):\n",
    "    for i in range(len(a)):\n",
    "        if a[i] == x:\n",
    "            return i\n",
    "    return -1\n",
    "\n",
    "if __name__ == '__main__':\n",
    "    #input = sys.stdin.read()\n",
    "    data = list(map(int, input().split()))\n",
    "    n = data[0]\n",
    "    m = data[n + 1]\n",
    "    a = data[1 : n + 1]\n",
    "    for x in data[n + 2:]:\n",
    "        # replace with the call to binary_search when implemented\n",
    "        print(binary_search(a, 0, len(a), x), end = ' ')\n"
   ]
  },
  {
   "cell_type": "code",
   "execution_count": 3,
   "metadata": {},
   "outputs": [
    {
     "name": "stdout",
     "output_type": "stream",
     "text": [
      "4 1 2 3 4\n",
      "0\n"
     ]
    }
   ],
   "source": [
    "# Problem2 Majority Element\n",
    "\n",
    "#import sys\n",
    "\n",
    "def get_majority_element(a, left, right):\n",
    "    #if left == right:\n",
    "        #return -1\n",
    "    if left + 1 == right:\n",
    "        return a[left]\n",
    "    mid = left + (right - left) //2\n",
    "    x = get_majority_element(a, left, mid)\n",
    "    y = get_majority_element(a, mid, right)\n",
    "    countx = 0\n",
    "    county = 0\n",
    "    for aa in a[left:right]:\n",
    "        if x == aa:\n",
    "            countx = countx + 1\n",
    "        if y == aa:\n",
    "            county = county + 1\n",
    "    if countx >= county and countx > (right - left) / 2:\n",
    "        return x\n",
    "    if county >= countx and county > (right - left) / 2:\n",
    "        return y\n",
    "    return -1\n",
    "\n",
    "if __name__ == '__main__':\n",
    "    #input = sys.stdin.read()\n",
    "    n, *a = list(map(int, input().split()))\n",
    "    if get_majority_element(a, 0, n) != -1:\n",
    "        print(1)\n",
    "    else:\n",
    "        print(0)\n",
    "\n"
   ]
  },
  {
   "cell_type": "code",
   "execution_count": 5,
   "metadata": {},
   "outputs": [
    {
     "name": "stdout",
     "output_type": "stream",
     "text": [
      "5 2 3 9 2 2\n",
      "2 2 2 3 9 "
     ]
    }
   ],
   "source": [
    "# Problem3 Improving Quick Sort\n",
    "\n",
    "import sys\n",
    "import random\n",
    "\n",
    "def partition3(a, l, r):\n",
    "    x = a[l]\n",
    "    #print(x)\n",
    "    #print(a[l:r+1])\n",
    "    m1 = l\n",
    "    m2 = l\n",
    "    for i in range(l + 1, r + 1):\n",
    "        if a[i] < x:\n",
    "            m1 += 1\n",
    "            m2 += 1\n",
    "            a[i], a[m2] = a[m2], a[i]\n",
    "            if m1 > l:\n",
    "                a[m2], a[m1] = a[m1], a[m2]\n",
    "        elif a[i] == x:\n",
    "            m2 += 1\n",
    "            a[i], a[m2] = a[m2], a[i]\n",
    "    a[l], a[m1] = a[m1], a[l]\n",
    "    \n",
    "    return m1, m2\n",
    "\n",
    "def partition2(a, l, r):\n",
    "    x = a[l]\n",
    "    j = l\n",
    "    for i in range(l + 1, r + 1):\n",
    "        if a[i] <= x:\n",
    "            j += 1\n",
    "            a[i], a[j] = a[j], a[i]\n",
    "    a[l], a[j] = a[j], a[l]\n",
    "    return j\n",
    "\n",
    "\n",
    "def randomized_quick_sort(a, l, r):\n",
    "    if l >= r:\n",
    "        return\n",
    "    k = random.randint(l, r)\n",
    "    a[l], a[k] = a[k], a[l]\n",
    "    #use partition3\n",
    "    m1, m2 = partition3(a, l, r)\n",
    "    randomized_quick_sort(a, l, m1 - 1);\n",
    "    randomized_quick_sort(a, m2 + 1, r);\n",
    "\n",
    "\n",
    "if __name__ == '__main__':\n",
    "    #input = sys.stdin.read()\n",
    "    n, *a = list(map(int, input().split()))\n",
    "    randomized_quick_sort(a, 0, n - 1)\n",
    "    for x in a:\n",
    "        print(x, end=' ')"
   ]
  },
  {
   "cell_type": "code",
   "execution_count": 129,
   "metadata": {},
   "outputs": [
    {
     "name": "stdout",
     "output_type": "stream",
     "text": [
      "5 2 3 9 2 9\n",
      "2\n"
     ]
    }
   ],
   "source": [
    "#Problem4 Number of Inversions\n",
    "\n",
    "import sys\n",
    "\n",
    "def get_number_of_inversions(a, b, left, right):\n",
    "    number_of_inversions = 0\n",
    "    if right - left <= 1:\n",
    "        return number_of_inversions\n",
    "    ave = (left + right) // 2\n",
    "    number_of_inversions += get_number_of_inversions(a, b, left, ave)\n",
    "    number_of_inversions += get_number_of_inversions(a, b, ave, right)\n",
    "    \n",
    "    B = a[left:ave]\n",
    "    C = a[ave:right]\n",
    "    D = []\n",
    "    #print(B)\n",
    "    #print(C)\n",
    "    while (len(B) > 0) and (len(C) > 0):\n",
    "        if B[0] > C[0]:\n",
    "            number_of_inversions += len(B)\n",
    "            D.append(C[0])\n",
    "            C.pop(0)\n",
    "        else:\n",
    "            D.append(B[0])\n",
    "            B.pop(0)\n",
    "    D = D + B + C\n",
    "    \n",
    "    a[left:right] = D\n",
    "            \n",
    "    return number_of_inversions\n",
    "\n",
    "if __name__ == '__main__':\n",
    "    #input = sys.stdin.read()\n",
    "    n, *a = list(map(int, input().split()))\n",
    "    b = n * [0]\n",
    "    print(get_number_of_inversions(a, b, 0, len(a)))\n"
   ]
  },
  {
   "cell_type": "code",
   "execution_count": 291,
   "metadata": {},
   "outputs": [
    {
     "name": "stdout",
     "output_type": "stream",
     "text": [
      "3 2 0 5 -3 2 7 10 1 6\n",
      "2 0 "
     ]
    }
   ],
   "source": [
    "# Problem5 Organizing a Lottery\n",
    "\n",
    "import sys\n",
    "\n",
    "def fast_count_segments(starts, ends, points):\n",
    "    n = len(starts)\n",
    "    cnt = []\n",
    "    starts.sort()\n",
    "    ends.sort()\n",
    "    for point in points:\n",
    "        l = binary_search(starts, 0, n, point + 0.5) + 1 # +1 makes index to counts\n",
    "        r = len(ends) - binary_search(ends, 0, n, point - 0.5) - 1\n",
    "        cnt.append(l + r - n)\n",
    "    \n",
    "    return cnt\n",
    "\n",
    "def binary_search(a, left, right, x):\n",
    "    if left >= right:\n",
    "        return left - 1\n",
    "    mid = left + (right - left) // 2\n",
    "    if x == a[mid]:\n",
    "        return mid\n",
    "    elif x < a[mid]:\n",
    "        return binary_search(a, left, mid, x)\n",
    "    else:\n",
    "        return binary_search(a, mid + 1, right, x)\n",
    "\n",
    "if __name__ == '__main__':\n",
    "    #input = sys.stdin.read()\n",
    "    data = list(map(int, input().split()))\n",
    "    n = data[0]\n",
    "    m = data[1]\n",
    "    starts = data[2:2 * n + 2:2]\n",
    "    ends   = data[3:2 * n + 2:2]\n",
    "    points = data[2 * n + 2:]\n",
    "    #use fast_count_segments\n",
    "    cnt = fast_count_segments(starts, ends, points)\n",
    "    for x in cnt:\n",
    "        print(x, end=' ')"
   ]
  },
  {
   "cell_type": "code",
   "execution_count": 7,
   "metadata": {},
   "outputs": [
    {
     "name": "stdout",
     "output_type": "stream",
     "text": [
      "11 4 4 -2 -2 -3 -4 -1 3 2 3 -4 0 1 1 -1 -1 3 -1 -4 2 -2 4\n",
      "1.414213562\n"
     ]
    }
   ],
   "source": [
    "# Problem6 Closest Points\n",
    "\n",
    "import sys\n",
    "import math\n",
    "\n",
    "def minimum_distance(points):\n",
    "    n = len(points)\n",
    "    if n == 1:\n",
    "        return 10 ** 18\n",
    "    if n == 2:\n",
    "        return math.sqrt((points[0][0] - points[1][0]) ** 2 + (points[0][1] - points[1][1]) ** 2)\n",
    "    \n",
    "    points.sort()\n",
    "    m = n // 2\n",
    "    d1 = minimum_distance(points[0:m])\n",
    "    d2 = minimum_distance(points[m:n])\n",
    "    d = min(d1, d2)\n",
    "    mid = (points[m][0] + points[m-1][0]) / 2\n",
    "    points_new = []\n",
    "    for point in points:\n",
    "        if abs(point[0] - mid) <= d:\n",
    "            points_new.append(point)\n",
    "    points_new.sort(key = lambda x: x[1]) # move sorting procedure outside the recursive call we can have O(nlogn)\n",
    "    #print(points_new)\n",
    "    n1 = len(points_new)\n",
    "    for i in range(n1):\n",
    "        for j in range(1, min(8, n1 - i)):\n",
    "            if abs(points_new[i][1] - points_new[i + j][1]) < d:\n",
    "                d_lr = math.sqrt((points_new[i][0] - points_new[i + j][0]) ** 2 + (points_new[i][1] - points_new[i + j][1]) ** 2)\n",
    "                d = min(d, d_lr)\n",
    "            else: break\n",
    "    \n",
    "    return d\n",
    "\n",
    "if __name__ == '__main__':\n",
    "    #input = sys.stdin.read()\n",
    "    data = list(map(int, input().split()))\n",
    "    n = data[0]\n",
    "    x = data[1::2]\n",
    "    y = data[2::2]\n",
    "    print(\"{0:.9f}\".format(minimum_distance(list(zip(x,y)))))"
   ]
  },
  {
   "cell_type": "code",
   "execution_count": 315,
   "metadata": {},
   "outputs": [
    {
     "data": {
      "text/plain": [
       "(1, 2)"
      ]
     },
     "execution_count": 315,
     "metadata": {},
     "output_type": "execute_result"
    }
   ],
   "source": [
    "x=[1,1,3]\n",
    "y=[2,2,4]\n",
    "z=set(zip(x,y))\n",
    "z1=list(z)\n",
    "z1[0]"
   ]
  },
  {
   "cell_type": "code",
   "execution_count": 323,
   "metadata": {},
   "outputs": [
    {
     "data": {
      "text/plain": [
       "[1, 2, 3, 4, 5, 6, 7]"
      ]
     },
     "execution_count": 323,
     "metadata": {},
     "output_type": "execute_result"
    }
   ],
   "source": [
    "list(range(1,8))"
   ]
  },
  {
   "cell_type": "code",
   "execution_count": null,
   "metadata": {},
   "outputs": [],
   "source": []
  }
 ],
 "metadata": {
  "kernelspec": {
   "display_name": "Python 3",
   "language": "python",
   "name": "python3"
  },
  "language_info": {
   "codemirror_mode": {
    "name": "ipython",
    "version": 3
   },
   "file_extension": ".py",
   "mimetype": "text/x-python",
   "name": "python",
   "nbconvert_exporter": "python",
   "pygments_lexer": "ipython3",
   "version": "3.7.0"
  }
 },
 "nbformat": 4,
 "nbformat_minor": 2
}
